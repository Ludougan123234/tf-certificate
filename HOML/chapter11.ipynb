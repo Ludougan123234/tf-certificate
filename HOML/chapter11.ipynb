{
 "cells": [
  {
   "attachments": {},
   "cell_type": "markdown",
   "metadata": {},
   "source": [
    "# Chapter 11: Training deep neural networks\n",
    "\n",
    "- Common problems and solutions with training deep networks at a glance: <br>\n",
    "\n",
    "| Problem                       | Solution                                                                                  |\n",
    "| :---------------------------- | :---------------------------------------------------------------------------------------- |\n",
    "| Vanishing/exploding gradients | Different initialization, activation functions, batch normalization and gradient clipping |\n",
    "| Limited data                  | Transfer learning and unsupervised learning                                               |\n",
    "| Slow training                 | Use of different optimizers                                                               |\n",
    "| Overfitting                   | Use regularization techniques                                                             |"
   ]
  },
  {
   "attachments": {},
   "cell_type": "markdown",
   "metadata": {},
   "source": [
    "## Vanishing gradient problem\n",
    "\n",
    "- "
   ]
  },
  {
   "cell_type": "code",
   "execution_count": null,
   "metadata": {},
   "outputs": [],
   "source": []
  }
 ],
 "metadata": {
  "kernelspec": {
   "display_name": "numpy_m1_build",
   "language": "python",
   "name": "python3"
  },
  "language_info": {
   "codemirror_mode": {
    "name": "ipython",
    "version": 3
   },
   "file_extension": ".py",
   "mimetype": "text/x-python",
   "name": "python",
   "nbconvert_exporter": "python",
   "pygments_lexer": "ipython3",
   "version": "3.10.4"
  },
  "orig_nbformat": 4
 },
 "nbformat": 4,
 "nbformat_minor": 2
}
