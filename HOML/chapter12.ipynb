{
 "cells": [
  {
   "attachments": {},
   "cell_type": "markdown",
   "metadata": {},
   "source": [
    "# Chapter 12\n",
    "\n",
    "Overview: \n",
    "1. [Data structures and operations](#tensor-data-structures-and-operations)\n",
    "2. [Custom loss function](#custom-loss-function)"
   ]
  },
  {
   "cell_type": "code",
   "execution_count": 1,
   "metadata": {},
   "outputs": [
    {
     "name": "stderr",
     "output_type": "stream",
     "text": [
      "/Users/randy/.conda/envs/numpy_m1_build/lib/python3.10/site-packages/scipy/__init__.py:155: UserWarning: A NumPy version >=1.18.5 and <1.25.0 is required for this version of SciPy (detected version 1.25.0\n",
      "  warnings.warn(f\"A NumPy version >={np_minversion} and <{np_maxversion}\"\n"
     ]
    },
    {
     "data": {
      "text/plain": [
       "'2.10.0'"
      ]
     },
     "execution_count": 1,
     "metadata": {},
     "output_type": "execute_result"
    }
   ],
   "source": [
    "import tensorflow as tf\n",
    "from tensorflow import keras\n",
    "import matplotlib.pyplot as plt\n",
    "import numpy as np\n",
    "from sklearn.model_selection import train_test_split\n",
    "from sklearn.preprocessing import StandardScaler\n",
    "from sklearn.datasets import fetch_california_housing\n",
    "\n",
    "%matplotlib inline\n",
    "(tf.__version__)"
   ]
  },
  {
   "attachments": {},
   "cell_type": "markdown",
   "metadata": {},
   "source": [
    "## Tensor data structures and operations\n",
    "\n",
    "- Tensorflow Python API\n",
    "\n",
    "| Purpose | Tensorflow API |\n",
    "| :------ | :------------- |\n",
    "| High-level API | `tf.keras`, `tf.estimator` | \n",
    "| Low-level API | `tf.nn`, `tf.losses`, `tf.metrics`, `tf.optimizers`, `tf.train`, `tf.initializers` |\n",
    "| Autodiff | `tf.GradientTape`, `tf.gradients()` |\n",
    "| I/O & Preprocessing | `tf.data`, `tf.feature_column`, `tf.audio`, `tf.image`, `tf.io`, `tf.queue` |\n",
    "| Tensorboard | `tf.summary` |\n",
    "| Deployment and optimization | `tf.distribute`, `tf.saved_model`, `tf.autograph`, `tf.graph_util`, `tf.lite`, `tf.quantization`, `tf.tpu`, `tf.xla` |\n",
    "| Special data structures | `tf.lookup`, `tf.nest`, `tf.ragged`, `tf.sets`, `tf.sparse`, `tf.strings` |\n",
    "| Math | `tf.math`, `tf.linalg`, `tf.signal`, `tf.random`, `tf.bitwise` |\n",
    "| Miscellaneous | `tf.compat`, `tf.config` |\n",
    "\n",
    "\n",
    "1. Data structure\n",
    "\n",
    "|  Datatype| description |\n",
    "|:----|:----|\n",
    "| `tf.constant()` | Immutable tensor |\n",
    "| `tf.Variable()` | Mutable tensor. Use `assign()` and related methods, and `scatter_nd_update()` to update value |\n",
    "| `tf.SparseTensor` | Represents tensors with mostly zeros | \n",
    "| `tf.TensorArray` | Represents list with tensors. All tensors must have the same shape and dtype. Fixed size by default but can be made mutable | \n",
    "| `tf.RaggedTensor` | Represents list of lists of tensors, where every tensor has the same shape and dtype | \n",
    "| string tensors (`tf.string`) | Represents string data (byte strings). `tf.strings` package contains ops for byte and unicode strings. `tf.string` is atomic (the length does not appear in tensor's shape, and will only be made visible after converting to `tf.int32` unicode representation tensor). See example. | \n",
    "| Sets | Defined as regular tensors |\n",
    "| Queues | Store tensors across multiple steps, includes: `PriorityQueue`, `RandomShuffleQueue`, `PaddingFIFOQueue` | \n",
    "\n",
    "\n",
    "2. Operations\n",
    "\n",
    "|  Operation| description |\n",
    "|:----|:----|\n",
    "| + | addition (calls `tf.__add__`) |\n",
    "| - | subtraction (calls `tf.__sub__`) |\n",
    "| * | (component wise) multiplication  (calls `tf.__mul__`) |\n",
    "| @ | matrix multiplication (calls `tf.__matmul__`) |\n",
    "| / | division (calls `tf.__div__`) |\n",
    "| `transpose()` | Transpose a matrix | \n"
   ]
  },
  {
   "cell_type": "code",
   "execution_count": 18,
   "metadata": {},
   "outputs": [
    {
     "name": "stdout",
     "output_type": "stream",
     "text": [
      "tf.Tensor(42, shape=(), dtype=int32)\n",
      "\n",
      " tf.Tensor(\n",
      "[[1 2 3]\n",
      " [4 5 6]], shape=(2, 3), dtype=int32)\n",
      "\n",
      " (TensorShape([2, 3]), tf.int32)\n",
      "\n",
      " tf.Tensor([2 5], shape=(2,), dtype=int32) \n",
      " tf.Tensor(\n",
      "[[2]\n",
      " [5]], shape=(2, 1), dtype=int32)\n"
     ]
    }
   ],
   "source": [
    "# define scaler\n",
    "print(tf.constant(42))\n",
    "\n",
    "# define matrix\n",
    "print(\"\\n\", tf.constant([[1,2,3], [4,5,6]]))\n",
    "\n",
    "# shape and dtype \n",
    "t = tf.constant([[1,2,3], [4,5,6]])\n",
    "print(\"\\n\", (t.shape, t.dtype))\n",
    "\n",
    "# tensor indexing\n",
    "print(\"\\n\", t[:, 1], \"\\n\" ,t[:, 1, tf.newaxis])"
   ]
  },
  {
   "cell_type": "code",
   "execution_count": 20,
   "metadata": {},
   "outputs": [
    {
     "data": {
      "text/plain": [
       "(<tf.Tensor: shape=(2, 3), dtype=int32, numpy=\n",
       " array([[11, 12, 13],\n",
       "        [14, 15, 16]], dtype=int32)>,\n",
       " <tf.Tensor: shape=(2, 3), dtype=int32, numpy=\n",
       " array([[ 1,  4,  9],\n",
       "        [16, 25, 36]], dtype=int32)>,\n",
       " <tf.Tensor: shape=(2, 2), dtype=int32, numpy=\n",
       " array([[14, 32],\n",
       "        [32, 77]], dtype=int32)>)"
      ]
     },
     "execution_count": 20,
     "metadata": {},
     "output_type": "execute_result"
    }
   ],
   "source": [
    "(t + 10, tf.square(t), t @ tf.transpose(t))"
   ]
  },
  {
   "attachments": {},
   "cell_type": "markdown",
   "metadata": {},
   "source": [
    "`tf.transpose()` is different from numpy `.T` attribute: `tf` creates a new tensor with the transposed data, while `numpy` `.T` attribute is only a **view** of the transposed data. \n",
    "\n",
    "`keras.backend` provides interface to call corresponding tensorflow ops. "
   ]
  },
  {
   "cell_type": "code",
   "execution_count": 24,
   "metadata": {},
   "outputs": [
    {
     "name": "stdout",
     "output_type": "stream",
     "text": [
      "tf.Tensor([1 2 3], shape=(3,), dtype=int64)\n",
      "[[1 2 3]\n",
      " [4 5 6]]\n"
     ]
    }
   ],
   "source": [
    "# from numpy array to tf tensor\n",
    "a = np.array([1,2,3])\n",
    "print(tf.constant(a))\n",
    "\n",
    "# from tf tensor to numpy array\n",
    "print(t.numpy())"
   ]
  },
  {
   "cell_type": "code",
   "execution_count": 8,
   "metadata": {},
   "outputs": [
    {
     "name": "stdout",
     "output_type": "stream",
     "text": [
      "cannot compute AddV2 as input #1(zero-based) was expected to be a float tensor but is a int32 tensor [Op:AddV2]\n"
     ]
    },
    {
     "data": {
      "text/plain": [
       "<tf.Tensor: shape=(1,), dtype=int16, numpy=array([84], dtype=int16)>"
      ]
     },
     "execution_count": 8,
     "metadata": {},
     "output_type": "execute_result"
    }
   ],
   "source": [
    "# type conversion\n",
    "# tf does not allow implicit type conversions. Type conversion should be done\n",
    "# explicitly through tf.cast() \n",
    "\n",
    "try:\n",
    "     tf.constant([42.]) + tf.constant([42])\n",
    "except Exception as e:\n",
    "     print(e)\n",
    "\n",
    "# Use tf.cast() to cast datatypes\n",
    "t1 = tf.constant([42], dtype=tf.float64)\n",
    "t2 = tf.constant([42], dtype=tf.int16)\n",
    "tf.cast(t1, tf.int16) + t2"
   ]
  },
  {
   "cell_type": "code",
   "execution_count": 27,
   "metadata": {},
   "outputs": [
    {
     "name": "stdout",
     "output_type": "stream",
     "text": [
      "<tf.Variable 'UnreadVariable' shape=(2, 3) dtype=int32, numpy=\n",
      "array([[ 2,  4,  6],\n",
      "       [ 8, 10, 12]], dtype=int32)> <tf.Variable 'UnreadVariable' shape=(2, 3) dtype=int32, numpy=\n",
      "array([[42,  2,  3],\n",
      "       [42,  5,  6]], dtype=int32)> <tf.Variable 'UnreadVariable' shape=(2, 3) dtype=int32, numpy=\n",
      "array([[100,   2,   3],\n",
      "       [  4,   5, 200]], dtype=int32)> <tf.Variable 'UnreadVariable' shape=(2, 3) dtype=int32, numpy=\n",
      "array([[4, 5, 6],\n",
      "       [1, 2, 3]], dtype=int32)>\n"
     ]
    }
   ],
   "source": [
    "# tf.constant() --> immutable\n",
    "# tf.variable() --> mutable, suitable for weights and optims\n",
    "\n",
    "g1 = tf.Variable([[1,2,3], [4,5,6]])\n",
    "g2 = tf.Variable([[1,2,3], [4,5,6]])\n",
    "g3 = tf.Variable([[1,2,3], [4,5,6]])\n",
    "g4 = tf.Variable([[1,2,3], [4,5,6]])\n",
    "\n",
    "print(\n",
    "    g1.assign(2 * g1), # assign the operation of * 2 to g\n",
    "    g2[:, 0].assign(42), # assign value 42 to selected index\n",
    "    g3.scatter_nd_update(indices = [[0,0], [1,2]],\n",
    "                         updates = [100, 200]), # use scatter_nd_update to update variable\n",
    "    g4.scatter_update(tf.IndexedSlices(values=[[1,2,3], [4,5,6]],\n",
    "                                       indices = [1, 0]))) "
   ]
  },
  {
   "cell_type": "code",
   "execution_count": 14,
   "metadata": {},
   "outputs": [
    {
     "data": {
      "text/plain": [
       "(<tf.Tensor: shape=(), dtype=string, numpy=b'caf\\xc3\\xa8'>,\n",
       " <tf.Tensor: shape=(), dtype=string, numpy=b'tensorflow'>,\n",
       " <tf.Tensor: shape=(4,), dtype=int32, numpy=array([ 99,  97, 102, 232], dtype=int32)>)"
      ]
     },
     "execution_count": 14,
     "metadata": {},
     "output_type": "execute_result"
    }
   ],
   "source": [
    "# string\n",
    "\n",
    "(tf.constant(\"cafè\"),\n",
    " tf.constant(b\"tensorflow\"), # b for byte string. ASCII literals only\n",
    " tf.constant([ord(c) for c in \"cafè\"])) # Unicode point encoding"
   ]
  },
  {
   "cell_type": "code",
   "execution_count": 13,
   "metadata": {},
   "outputs": [
    {
     "data": {
      "text/plain": [
       "(<tf.Tensor: shape=(), dtype=int32, numpy=4>,\n",
       " <tf.Tensor: shape=(4,), dtype=int32, numpy=array([ 99,  97, 102, 232], dtype=int32)>)"
      ]
     },
     "execution_count": 13,
     "metadata": {},
     "output_type": "execute_result"
    }
   ],
   "source": [
    "u = tf.constant([ord(c) for c in \"cafè\"])\n",
    "uu = tf.strings.unicode_encode(tf.constant(u), \"UTF-8\")\n",
    "\n",
    "(tf.strings.length(uu, unit=\"UTF8_CHAR\"), tf.strings.unicode_decode(uu, \"UTF-8\"))"
   ]
  },
  {
   "cell_type": "code",
   "execution_count": 8,
   "metadata": {},
   "outputs": [
    {
     "name": "stdout",
     "output_type": "stream",
     "text": [
      "tf.Tensor([4 6 5 2], shape=(4,), dtype=int32)\n"
     ]
    }
   ],
   "source": [
    "# string arrays \n",
    "p = tf.constant([\"Café\", \"Coffee\", \"caffè\", \"咖啡\"])\n",
    "print(tf.strings.length(p, unit = \"UTF8_CHAR\"))"
   ]
  },
  {
   "cell_type": "code",
   "execution_count": 12,
   "metadata": {},
   "outputs": [
    {
     "name": "stdout",
     "output_type": "stream",
     "text": [
      "<tf.RaggedTensor [[67, 97, 102, 233], [67, 111, 102, 102, 101, 101],\n",
      " [99, 97, 102, 102, 232], [21654, 21857]]> tf.Tensor([ 67 111 102 102 101 101], shape=(6,), dtype=int32) <tf.RaggedTensor [[67, 111, 102, 102, 101, 101], [99, 97, 102, 102, 232]]>\n"
     ]
    }
   ],
   "source": [
    "# ragged tensor\n",
    "r = tf.strings.unicode_decode(p, \"UTF-8\")\n",
    "print(r, r[1], r[1:3]) "
   ]
  },
  {
   "cell_type": "code",
   "execution_count": 18,
   "metadata": {},
   "outputs": [
    {
     "data": {
      "text/plain": [
       "(<tf.RaggedTensor [[67, 97, 102, 233], [67, 111, 102, 102, 101, 101],\n",
       "  [99, 97, 102, 102, 232], [21654, 21857], [65, 66], [], [67]]>,\n",
       " <tf.RaggedTensor [[67, 97, 102, 233, 68, 69, 79], [67, 111, 102, 102, 101, 101, 71],\n",
       "  [99, 97, 102, 102, 232], [21654, 21857, 72, 83]]>)"
      ]
     },
     "execution_count": 18,
     "metadata": {},
     "output_type": "execute_result"
    }
   ],
   "source": [
    "r1 = tf.ragged.constant([[65, 66], [], [67]])\n",
    "r2 = tf.ragged.constant([[68, 69, 79], [71], [], [72, 83]])\n",
    "(tf.concat([r, r1], axis = 0), # concatenate two ragged tensors\n",
    " tf.concat([r, r2], axis = 1)) "
   ]
  },
  {
   "cell_type": "code",
   "execution_count": 26,
   "metadata": {},
   "outputs": [
    {
     "data": {
      "text/plain": [
       "<tf.Tensor: shape=(3,), dtype=string, numpy=array([b'AB', b'', b'C'], dtype=object)>"
      ]
     },
     "execution_count": 26,
     "metadata": {},
     "output_type": "execute_result"
    }
   ],
   "source": [
    "tf.strings.unicode_encode(r1, \"UTF-8\")"
   ]
  },
  {
   "cell_type": "code",
   "execution_count": 20,
   "metadata": {},
   "outputs": [
    {
     "data": {
      "text/plain": [
       "<tf.Tensor: shape=(4, 3), dtype=int32, numpy=\n",
       "array([[68, 69, 79],\n",
       "       [71,  0,  0],\n",
       "       [ 0,  0,  0],\n",
       "       [72, 83,  0]], dtype=int32)>"
      ]
     },
     "execution_count": 20,
     "metadata": {},
     "output_type": "execute_result"
    }
   ],
   "source": [
    "r2.to_tensor() # convert back to tensor"
   ]
  },
  {
   "cell_type": "code",
   "execution_count": 3,
   "metadata": {},
   "outputs": [
    {
     "name": "stdout",
     "output_type": "stream",
     "text": [
      "SparseTensor(indices=tf.Tensor(\n",
      "[[0 1]\n",
      " [1 0]\n",
      " [2 3]], shape=(3, 2), dtype=int64), values=tf.Tensor([1. 2. 3.], shape=(3,), dtype=float32), dense_shape=tf.Tensor([3 4], shape=(2,), dtype=int64)) tf.Tensor(\n",
      "[[0. 1. 0. 0.]\n",
      " [2. 0. 0. 0.]\n",
      " [0. 0. 0. 3.]], shape=(3, 4), dtype=float32)\n"
     ]
    }
   ],
   "source": [
    "# sparse tensor \n",
    "s = tf.SparseTensor(indices=[[0, 1], [1, 0], [2, 3]], # index at which the non-zero element is at\n",
    "                    values = [1., 2., 3.], # the value non-zero element\n",
    "                    dense_shape=[3,4])  # shape of the tensor\n",
    "print(s, tf.sparse.to_dense(s))"
   ]
  },
  {
   "cell_type": "code",
   "execution_count": 5,
   "metadata": {},
   "outputs": [
    {
     "name": "stdout",
     "output_type": "stream",
     "text": [
      "unsupported operand type(s) for +: 'SparseTensor' and 'int'\n"
     ]
    }
   ],
   "source": [
    "try:\n",
    "    s + 1\n",
    "except Exception as e: \n",
    "    print(e)"
   ]
  },
  {
   "cell_type": "code",
   "execution_count": 6,
   "metadata": {},
   "outputs": [
    {
     "data": {
      "text/plain": [
       "<tf.Tensor: shape=(3, 2), dtype=float32, numpy=\n",
       "array([[ 30.,  40.],\n",
       "       [ 20.,  40.],\n",
       "       [210., 240.]], dtype=float32)>"
      ]
     },
     "execution_count": 6,
     "metadata": {},
     "output_type": "execute_result"
    }
   ],
   "source": [
    "tf.sparse.sparse_dense_matmul(\n",
    "    s, \n",
    "    tf.constant([[10., 20.], [30., 40.], [50., 60.], [70., 80.]])\n",
    ")"
   ]
  },
  {
   "cell_type": "code",
   "execution_count": 18,
   "metadata": {},
   "outputs": [
    {
     "name": "stdout",
     "output_type": "stream",
     "text": [
      "{{function_node __wrapped__SparseToDense_device_/job:localhost/replica:0/task:0/device:CPU:0}} indices[1] = [0,1] is out of order. Many sparse ops require sorted indices.\n",
      "    Use `tf.sparse.reorder` to create a correctly ordered copy.\n",
      "\n",
      " [Op:SparseToDense]\n"
     ]
    },
    {
     "name": "stderr",
     "output_type": "stream",
     "text": [
      "2023-06-28 22:33:32.779573: W tensorflow/core/framework/op_kernel.cc:1780] OP_REQUIRES failed at sparse_to_dense_op.cc:162 : INVALID_ARGUMENT: indices[1] = [0,1] is out of order. Many sparse ops require sorted indices.\n",
      "    Use `tf.sparse.reorder` to create a correctly ordered copy.\n",
      "\n",
      "\n"
     ]
    }
   ],
   "source": [
    "s2 = tf.SparseTensor(indices=[[0, 2], [0, 1]], # this is out of order ([0,2] should come after [0, 1])\n",
    "                     values=[1., 2.],\n",
    "                     dense_shape=[3, 4])\n",
    "\n",
    "try: \n",
    "    tf.sparse.to_dense(s2)\n",
    "except Exception as e: \n",
    "    print(e) "
   ]
  },
  {
   "cell_type": "code",
   "execution_count": 19,
   "metadata": {},
   "outputs": [
    {
     "name": "stdout",
     "output_type": "stream",
     "text": [
      "tf.Tensor(\n",
      "[[0. 2. 1. 0.]\n",
      " [0. 0. 0. 0.]\n",
      " [0. 0. 0. 0.]], shape=(3, 4), dtype=float32)\n"
     ]
    }
   ],
   "source": [
    "print(tf.sparse.to_dense(tf.sparse.reorder(s2))) # use reorder to correct the ordering of non-zero elements"
   ]
  },
  {
   "cell_type": "code",
   "execution_count": 24,
   "metadata": {},
   "outputs": [
    {
     "data": {
      "text/plain": [
       "(<tf.Tensor: shape=(2, 6), dtype=int32, numpy=\n",
       " array([[ 2,  3,  4,  5,  6,  7],\n",
       "        [ 0,  7,  9, 10,  0,  0]], dtype=int32)>,\n",
       " <tf.Tensor: shape=(2, 3), dtype=int32, numpy=\n",
       " array([[2, 3, 7],\n",
       "        [7, 0, 0]], dtype=int32)>,\n",
       " <tf.Tensor: shape=(2, 2), dtype=int32, numpy=\n",
       " array([[5, 0],\n",
       "        [0, 9]], dtype=int32)>)"
      ]
     },
     "execution_count": 24,
     "metadata": {},
     "output_type": "execute_result"
    }
   ],
   "source": [
    "# Sets\n",
    "\n",
    "set1 = tf.constant([[2,3,5,7], [7,9,0,0]])\n",
    "set2 = tf.constant([[4,5,6], [9, 10, 0]])\n",
    "\n",
    "# calculate union, difference, intersection. Set operations return SparseTensor\n",
    "(tf.sparse.to_dense(tf.sets.union(set1, set2)),\n",
    " tf.sparse.to_dense(tf.sets.difference(set1, set2)),\n",
    " tf.sparse.to_dense(tf.sets.intersection(set1, set2)))"
   ]
  },
  {
   "cell_type": "code",
   "execution_count": 40,
   "metadata": {},
   "outputs": [],
   "source": [
    "# tensorarrays\n",
    "\n",
    "array = tf.TensorArray(dtype=tf.float32, size = 3)\n",
    "array = array.write(0, tf.constant([1., 2.]))\n",
    "array = array.write(1, tf.constant([3., 10.]))\n",
    "array = array.write(2, tf.constant([5., 7.]))"
   ]
  },
  {
   "cell_type": "code",
   "execution_count": 41,
   "metadata": {},
   "outputs": [
    {
     "data": {
      "text/plain": [
       "(<tf.Tensor: shape=(3, 2), dtype=float32, numpy=\n",
       " array([[ 1.,  2.],\n",
       "        [ 3., 10.],\n",
       "        [ 5.,  7.]], dtype=float32)>,\n",
       " <tf.Tensor: shape=(2,), dtype=float32, numpy=array([ 3., 10.], dtype=float32)>,\n",
       " <tf.Tensor: shape=(3, 2), dtype=float32, numpy=\n",
       " array([[1., 2.],\n",
       "        [0., 0.],\n",
       "        [5., 7.]], dtype=float32)>)"
      ]
     },
     "execution_count": 41,
     "metadata": {},
     "output_type": "execute_result"
    }
   ],
   "source": [
    "(array.stack(),\n",
    " array.read(1),\n",
    " array.stack()) "
   ]
  },
  {
   "cell_type": "code",
   "execution_count": 45,
   "metadata": {},
   "outputs": [
    {
     "data": {
      "text/plain": [
       "(<tf.Tensor: shape=(2,), dtype=float32, numpy=array([2., 3.], dtype=float32)>,\n",
       " <tf.Tensor: shape=(2,), dtype=float32, numpy=array([4.666667, 8.666667], dtype=float32)>)"
      ]
     },
     "execution_count": 45,
     "metadata": {},
     "output_type": "execute_result"
    }
   ],
   "source": [
    "tf.nn.moments(array.stack(), axes = 0) # returns mean and variance"
   ]
  },
  {
   "attachments": {},
   "cell_type": "markdown",
   "metadata": {},
   "source": [
    "## Custom Loss Function\n",
    "\n",
    "- Huber loss is a good alternative for regression models when the dataset is noisy - MSE might penalize outliers too much, while MAE gives too little penalization to outliers. Huber loss is defined as follows: <br>\n",
    "$\\displaystyle \\text{Huber loss} = \n",
    "\\begin{cases} \\\n",
    "\\frac{1}{2}(y - y_p)^2 && |y - y_p| \\leq \\delta \\\\ \n",
    "\\delta |y - y_p| - \\frac{1}{2}\\delta^2 && |y - y_p| > \\delta\n",
    "\\end{cases}$\n",
    "<br>\n",
    "$\\delta$ is a hyperparameter that controls the split between the two sub-function intervals. "
   ]
  },
  {
   "cell_type": "code",
   "execution_count": 5,
   "metadata": {},
   "outputs": [],
   "source": [
    "housing = fetch_california_housing()\n",
    "\n",
    "X_train, x_test, y_train, y_test = train_test_split(housing.data, housing.target.reshape(-1, 1), random_state = 42)\n",
    "X_train, x_val, y_train, y_val = train_test_split(X_train, y_train, random_state = 42)\n",
    "\n",
    "ss = StandardScaler()\n",
    "X_train = ss.fit_transform(X_train)\n",
    "x_val = ss.transform(x_val); x_test = ss.transform(x_test)"
   ]
  },
  {
   "cell_type": "code",
   "execution_count": 19,
   "metadata": {},
   "outputs": [],
   "source": [
    "def huber(y_true, y_pred, delta = 1.0):\n",
    "    err = y_true - y_pred\n",
    "    is_small_err = tf.abs(err) < delta\n",
    "    squared_loss = tf.square(err) / 2\n",
    "    linear_loss = delta * tf.abs(err) - delta** 2 / 2\n",
    "    return tf.where(is_small_err, squared_loss, linear_loss)"
   ]
  },
  {
   "cell_type": "code",
   "execution_count": 29,
   "metadata": {},
   "outputs": [
    {
     "data": {
      "image/png": "[encoded data removed]",
      "text/plain": [
       "<Figure size 1600x500 with 2 Axes>"
      ]
     },
     "metadata": {},
     "output_type": "display_data"
    }
   ],
   "source": [
    "plt.figure(figsize=(16, 5))\n",
    "z = np.linspace(-4, 4, 200)\n",
    "\n",
    "#different threshold values \n",
    "plt.subplot(121)\n",
    "plt.plot(z, huber(0, z, 0.1), \"g-\", linewidth = 2, label = \"huber($z$, $\\delta$ = 0.1)\")\n",
    "plt.plot(z, huber(0, z, 0.5), \"b-\", linewidth = 2, label = \"huber($z$, $\\delta$ = 0.5)\")\n",
    "plt.plot(z, huber(0, z, 1.0), \"r-\", linewidth = 2, label = \"huber($z$, $\\delta$ = 1.0)\")\n",
    "plt.plot(z, huber(0, z, 1.5), \"c-\", linewidth = 2, label = \"huber($z$, $\\delta$ = 1.5)\")\n",
    "plt.plot(z, huber(0, z, 2.0), \"m-\", linewidth = 2, label = \"huber($z$, $\\delta$ = 2.0)\")\n",
    "plt.gca().axhline(y = 0, color = \"k\")\n",
    "plt.gca().axvline(x = 0, color = \"k\")\n",
    "plt.axis([-4, 4, 0, 4])\n",
    "plt.grid(True)\n",
    "plt.xlabel(\"$z$\")\n",
    "plt.legend(fontsize = 11)\n",
    "plt.title(\"Huber loss with different $\\delta$s\", fontsize = 14)\n",
    "\n",
    "# different losses, huber delta = 1 \n",
    "plt.subplot(122)\n",
    "plt.plot(z, huber(0, z, 1.0), \"b-\", linewidth = 2, label = \"huber($z$, $\\delta$ = 1.0)\")\n",
    "plt.plot(z, z**2 / 2, \"k--\", linewidth = 1, label = r\"$\\frac{1}{2}z^2$ (MSE)\")\n",
    "plt.plot(z, tf.abs(z) / 2, \"g--\", linewidth = 1, label = r\"$\\frac{1}{2}z$ (MAE)\")\n",
    "plt.plot([-1, -1], [0, huber(0., -1.)], \"r--\")\n",
    "plt.plot([1, 1], [0, huber(0., 1.)], \"r--\")\n",
    "plt.gca().axhline(y = 0, color = \"k\")\n",
    "plt.gca().axvline(x = 0, color = \"k\")\n",
    "plt.axis([-4, 4, 0, 4])\n",
    "plt.grid(True)\n",
    "plt.xlabel(\"$z$\")\n",
    "plt.legend(fontsize = 11)\n",
    "plt.title(\"Huber loss vs. MSE/MAE\", fontsize = 14)\n",
    "plt.show()"
   ]
  },
  {
   "cell_type": "code",
   "execution_count": 72,
   "metadata": {},
   "outputs": [
    {
     "name": "stdout",
     "output_type": "stream",
     "text": [
      "Epoch 1/2\n",
      "363/363 [==============================] - 4s 11ms/step - loss: 0.7120 - mae: 1.0858 - val_loss: 369.0554 - val_mae: 369.5554\n",
      "Epoch 2/2\n",
      "363/363 [==============================] - 4s 10ms/step - loss: 0.2354 - mae: 0.5337 - val_loss: 346.7939 - val_mae: 347.2939\n"
     ]
    },
    {
     "data": {
      "text/plain": [
       "<keras.callbacks.History at 0x2cb3b1c60>"
      ]
     },
     "execution_count": 72,
     "metadata": {},
     "output_type": "execute_result"
    }
   ],
   "source": [
    "model = keras.models.Sequential([\n",
    "    keras.layers.Dense(30, activation=\"relu\", kernel_initializer=\"lecun_normal\",\n",
    "                       input_shape = X_train.shape[1:]),\n",
    "    keras.layers.Dense(1)\n",
    "])\n",
    "\n",
    "model.compile(loss = huber, optimizer=\"nadam\", metrics = ['mae'])\n",
    "model.fit(X_train, y_train, epochs = 2, validation_data = (x_val, y_val), verbose = 1)\n",
    "# model.save(\"model.h5\")"
   ]
  },
  {
   "attachments": {},
   "cell_type": "markdown",
   "metadata": {},
   "source": [
    "To load a model with custom objects, the custom objects need to be mapped manually: \n",
    "\n",
    "```python\n",
    "model = keras.models.load_model(\"model.h5\", custom_objects = {\"object_name\": object})\n",
    "```"
   ]
  },
  {
   "cell_type": "code",
   "execution_count": null,
   "metadata": {},
   "outputs": [],
   "source": [
    "# if we want to switch to a different threshold for huber loss: \n",
    "\n",
    "# load_model(\"model.h5\")\n",
    "\n",
    "def create_huber(threshold=1.0):\n",
    "    def huber_fn(y_true, y_pred):\n",
    "        error = y_true - y_pred\n",
    "        is_small_error = tf.abs(error) < threshold\n",
    "        squared_loss = tf.square(error) / 2\n",
    "        linear_loss  = threshold * tf.abs(error) - threshold**2 / 2\n",
    "        return tf.where(is_small_error, squared_loss, linear_loss)\n",
    "    return huber_fn\n",
    "\n",
    "# model.compile(loss = create_huber(2.0))\n",
    "# model.fit()\n",
    "# model.save(\"huber_2_model.h5\")\n",
    "# keras.models.load_model(\"huber_2_model.h5\",       \n",
    "#                         custom_objects = {\"huber_fn\": create_huber(2.0)})"
   ]
  },
  {
   "attachments": {},
   "cell_type": "markdown",
   "metadata": {},
   "source": [
    "The abovementioned method will not save the threshold value when the model is saved. To save the model with configuration, use the sub-classing method: "
   ]
  },
  {
   "cell_type": "code",
   "execution_count": 33,
   "metadata": {},
   "outputs": [],
   "source": [
    "class HuberLoss(keras.losses.Loss):\n",
    "    def __init__(self, threshold = 1.0, **kwargs) :\n",
    "        # **kwargs accepts arguments and pass them to parent constructor (the standard hyperparams)\n",
    "        self.threshold = threshold\n",
    "        super().__init__()\n",
    "     \n",
    "    def call(self, y_true, y_pred):\n",
    "        # takes y_true and y_pred, calculates loss, and return them\n",
    "        err = y_true - y_pred\n",
    "        is_small_err = tf.abs(err) < self.threshold \n",
    "        squared_loss = tf.square(err) / 2\n",
    "        linear_loss = self.threshold * tf.abs(err) - self.threshold**2/2\n",
    "        return super().call(y_true, y_pred)\n",
    "    \n",
    "    def get_config(self):\n",
    "        # returns a dictionary mapping of each hyperparameter name to its value\n",
    "        base_config = super().get_config()\n",
    "        #       ┌--> dictionary unpacking \n",
    "        return {**base_config, \"threshold\": self.threshold}"
   ]
  },
  {
   "attachments": {},
   "cell_type": "markdown",
   "metadata": {},
   "source": [
    "Then, the instance of `HuberLoss` can be used when compiling the model: \n",
    "`model.compile(loss = HuberLoss(2.), optimizer = \"nadam\")` as well as loading a saved model: `keras.models.load_model(\"huber_subclass_model.h5\", custom_objects = {\"HuberLoss\": HuberLoss})`"
   ]
  },
  {
   "attachments": {},
   "cell_type": "markdown",
   "metadata": {},
   "source": [
    "## Custom activation functions, initialiers, regularizers, and constraints\n",
    "\n",
    "Most keras functions can be customized through implementing a simple function with appropriate inputs and outputs. However, when a parameter needs to be saved, one should use subclassing technique to implement the function"
   ]
  },
  {
   "cell_type": "code",
   "execution_count": null,
   "metadata": {},
   "outputs": [],
   "source": [
    "# define functionalities using simple functions\n",
    "def softplus(z):\n",
    "    return tf.math.log(tf.exp(z) + 1.0)\n",
    "\n",
    "def glorot_normal_init(shape, dtype = tf.float32):\n",
    "    stddev = tf.sqrt(2. / (shape[0] + shape[1]))\n",
    "    return tf.random.normal(shape, stddev = stddev, dtype = dtype)\n",
    "\n",
    "def l1_reg(weights):\n",
    "    return tf.reduce_sum(tf.abs(0.01 * weights))\n",
    "\n",
    "def positive_weights(weights):\n",
    "    return tf.where(weights < 0., tf.zeros_like(weights), weights)\n",
    "\n",
    "# use custom functionalities in layers: \n",
    "keras.layers.Dense(30, activation=softplus,\n",
    "                   kernel_initializer=glorot_normal_init,\n",
    "                   kernel_regularizer=l1_reg,\n",
    "                   kernel_constraint=positive_weights)\n",
    "\n",
    "# saving can be done with .save()\n",
    "# loading is as follows: \n",
    "model = keras.models.load_model(\"my_model.h5\",\n",
    "                                custom_objects={\n",
    "                                    \"l1_reg\": l1_reg,\n",
    "                                    \"softplus\": softplus,\n",
    "                                    \"glorot_normal_init\": glorot_normal_init,\n",
    "                                    \"positive_weights\": positive_weights\n",
    "                                })"
   ]
  },
  {
   "cell_type": "code",
   "execution_count": null,
   "metadata": {},
   "outputs": [],
   "source": [
    "# define functionalities using subclassing\n",
    "class L1Regularizer(keras.regularizers.Regularizer):\n",
    "    def __init__(self, factor) -> None:\n",
    "        self.factor = factor\n",
    "    \n",
    "    def __call__(self, weights):\n",
    "        return tf.reduce_sum(tf.abs(self.factor * weights))\n",
    "    \n",
    "    def get_config(self):\n",
    "        return {\"factor\": self.factor}\n",
    "    \n",
    "# same with custom objects defined through simple functions, include the class name\n",
    "# in custom_objects argument dictionary when loading the model"
   ]
  },
  {
   "attachments": {},
   "cell_type": "markdown",
   "metadata": {},
   "source": [
    "## Custom Metrics\n",
    "\n",
    "- Losses must be differentiable (since they are used in training), while metrics do not necessarily have to be differentiable but need to be interpretable. \n",
    "- (?)**streaming metrics** - During training, Keras computes the metric and keeps track of its mean since the beginning of each epoch. However, if the mean is applied to the batch level and not instance level, this could lead to incorrect results. Therefore, we need an object to keep track of metrics on an instance (data point?) level.\n",
    "\n",
    "> The loss since the start of the epoch is the mean of all batch losses seen so far. Each batch loss is the sum of the weighted instance losses divided by the _batch size_ (not the sum of weights, so the batch loss is _not_ the weighted mean of the losses).\n",
    "> The metric since the start of the epoch is equal to the sum of weighted instance losses divided by sum of all weights seen so far. In other words, it is the weighted mean of all the instance losses. \n",
    "\n",
    "- Sometimes, a loss can also be used as a metric. However, since operations may not be carried out in the same order, and that there may be numerical precision errors, the same function can yield different results. Using sample weights can also lead to the same issue. "
   ]
  },
  {
   "cell_type": "code",
   "execution_count": 6,
   "metadata": {},
   "outputs": [
    {
     "data": {
      "text/plain": [
       "(<tf.Tensor: shape=(), dtype=float32, numpy=0.5>,\n",
       " [<tf.Variable 'true_positives:0' shape=(1,) dtype=float32, numpy=array([4.], dtype=float32)>,\n",
       "  <tf.Variable 'false_positives:0' shape=(1,) dtype=float32, numpy=array([4.], dtype=float32)>])"
      ]
     },
     "execution_count": 6,
     "metadata": {},
     "output_type": "execute_result"
    }
   ],
   "source": [
    "# streaming metrics \n",
    "\n",
    "precision = keras.metrics.Precision()\n",
    "\n",
    "# first batch \n",
    "precision([0, 1, 1, 1, 0, 1, 0, 1],\n",
    "          [1, 1, 0, 1, 0, 1, 0, 1])\n",
    "\n",
    "# second batch \n",
    "precision([0, 1, 0, 0, 1, 0, 1, 1],\n",
    "          [1, 0, 1, 1, 0, 0, 0, 0])\n",
    "\n",
    "# get overall results and variables (keeps track of true positives and false positives)\n",
    "precision.result(), precision.variables\n",
    "\n",
    "# reset state of the variable\n",
    "# precision.reset_state()"
   ]
  },
  {
   "cell_type": "code",
   "execution_count": null,
   "metadata": {},
   "outputs": [],
   "source": [
    "# streaming metric + subclasing \n",
    "\n",
    "class HuberMetric(keras.metrics.Metric):\n",
    "    def __init__(self, threshold = 1.0, **kwargs):\n",
    "        super().__init__(**kwargs)\n",
    "        self.threshold = threshold\n",
    "        self.huber_fn = create_huber(threshold)\n",
    "        # use add_weight to add variables to be tracked , but can be replaced with \n",
    "        # other tf Variables or layers\n",
    "        self.total = self.add_weight(\"total\", initializer = \"zeros\")\n",
    "        self.count = self.add_weight(\"count\", initializer = \"zeros\")\n",
    "\n",
    "    def update_state(self, y_true, y_pred, *args, **kwargs):\n",
    "        # called when the class is used as a function\n",
    "        metric = self.huber_fn(y_true, y_pred)\n",
    "        self.total.assign_add(tf.reduce_sum(metric))\n",
    "        self.count.assign_add(tf.cast(tf.size(y_true), tf.float32))\n",
    "\n",
    "    def result(self):\n",
    "        return self.total / self.count\n",
    "    \n",
    "    def get_config(self):\n",
    "        base_config = super().get_config()"
   ]
  },
  {
   "cell_type": "markdown",
   "metadata": {},
   "source": [
    "## Custom layers\n",
    "\n",
    "1. For layers without weights (e.g., ReLU, Flatten): use `keras.layers.Lambda`.\n",
    "     - E.g., the exponential layer would be expressed as: `tf.keras.layers.Lambda(lambda x: tf.exp(x))`\n",
    "2. For layers with weights: use subclassing as shown below: "
   ]
  },
  {
   "cell_type": "code",
   "execution_count": null,
   "metadata": {},
   "outputs": [],
   "source": [
    "class MyDense(keras.layers.Layer):\n",
    "    \"\"\"a simple implementation of Dense layer using subclassing\"\"\"\n",
    "\n",
    "    def __init__(self, units, activation=None, dynamic=False, **kwargs):\n",
    "        # name, trainable, input_shape are handled through **kwargs\n",
    "        super().__init__(**kwargs)\n",
    "        self.units = units\n",
    "        # accepts strings and get corresponding activation functions\n",
    "        self.activation = keras.activations.get(activation)\n",
    "\n",
    "    def build(self, input_shape):\n",
    "        self.kernel = self.add_weight(\n",
    "            name=\"kernel\",\n",
    "            shape=[input_shape[-1], self.units],\n",
    "            initializer=\"glorot_normal\",\n",
    "        )\n",
    "        self.bias = self.add_weight(\n",
    "            name=\"bias\", shape=[self.units], initializer=\"zeros\"\n",
    "        )\n",
    "        return super().build(input_shape)  # sets self.built to True\n",
    "\n",
    "    def call(self, X):\n",
    "        return self.activation(X @ self.kernel + self.bias)\n",
    "\n",
    "    def compute_output_shape(self, input_shape):\n",
    "        # shape of tensors are usually expressed as TensorShape\n",
    "        # can generally be omitted\n",
    "        return tf.TensorShape(input_shape.as_list()[:-1] + [self.units])\n",
    "\n",
    "    def get_config(self):\n",
    "        base_config = super().get_config()\n",
    "        return {\n",
    "            **base_config,\n",
    "            \"units\": self.units,\n",
    "            \"activation\": keras.activations.serialize(self.activation),\n",
    "        }"
   ]
  },
  {
   "cell_type": "code",
   "execution_count": 8,
   "metadata": {},
   "outputs": [
    {
     "name": "stdout",
     "output_type": "stream",
     "text": [
      "X1.shape:  (None, 2)  X2.shape:  (None, 2)\n"
     ]
    },
    {
     "data": {
      "image/png": "[encoded data removed]",
      "text/plain": [
       "<IPython.core.display.Image object>"
      ]
     },
     "execution_count": 8,
     "metadata": {},
     "output_type": "execute_result"
    }
   ],
   "source": [
    "class MyMultiInputLayer(keras.layers.Layer):\n",
    "    \"\"\"Implementation of layers with multiple inputs\"\"\"\n",
    "    def call(self, X:tuple):\n",
    "        \"\"\"\n",
    "        Args:\n",
    "            X (tuple): X must be a tuple containing the inputs\n",
    "\n",
    "        Returns:\n",
    "            _type_: _description_\n",
    "        \"\"\"\n",
    "        X1, X2 = X\n",
    "        print(\"X1.shape: \", X1.shape ,\" X2.shape: \", X2.shape)\n",
    "        return [X1 + X2, X1 * X2]\n",
    "    \n",
    "    def compute_output_shape(self, input_shape):\n",
    "        b1 = input_shape\n",
    "        return [b1, b1]\n",
    "\n",
    "input_A = keras.layers.Input(shape=[2])\n",
    "input_B = keras.layers.Input(shape=[2])\n",
    "hidden_A, hidden_B = MyMultiInputLayer()((input_A, input_B))\n",
    "hidden_A = keras.layers.Dense(30, activation='selu')(hidden_A)\n",
    "hidden_B = keras.layers.Dense(30, activation='selu')(hidden_B)\n",
    "concat = keras.layers.Concatenate()((hidden_A, hidden_B))\n",
    "output = keras.layers.Dense(1)(concat)\n",
    "model = keras.models.Model(inputs=[input_A, input_B], outputs=[output])\n",
    "\n",
    "tf.keras.utils.plot_model(model=model)"
   ]
  },
  {
   "cell_type": "code",
   "execution_count": 10,
   "metadata": {},
   "outputs": [],
   "source": [
    "# if the model needs to employ different behaviors during training: \n",
    "class MyGaussianNoise(keras.layers.Layer):\n",
    "    def __init__(self,stddev, **kwargs):\n",
    "        super().__init__(**kwargs)\n",
    "        self.stddev = stddev\n",
    "\n",
    "    def call(self, X, training = None):\n",
    "        if training: \n",
    "            noise = tf.random.normal(tf.shape(X), stddev = self.stddev)\n",
    "            return noise \n",
    "        else:\n",
    "            return X\n",
    "    def compute_output_shape(self, input_shape):\n",
    "        return input_shape\n",
    "    \n",
    "# to use this layer: \n",
    "model = keras.models.Sequential([\n",
    "    MyGaussianNoise(stddev = 1.0),\n",
    "    keras.layers.Dense(30, activation = \"selu\") \n",
    "])"
   ]
  },
  {
   "cell_type": "markdown",
   "metadata": {},
   "source": [
    "## Custom models\n",
    "\n",
    "It is noteworthy that `keras.models.Models` is a subclass of the `keras.layers.Layers` class. "
   ]
  },
  {
   "cell_type": "code",
   "execution_count": 31,
   "metadata": {},
   "outputs": [
    {
     "name": "stdout",
     "output_type": "stream",
     "text": [
      "Tensor(\"Placeholder:0\", shape=(None, 2), dtype=float32)\n",
      "<keras.layers.core.dense.Dense object at 0x2984670d0> Tensor(\"residual_block_16/dense_56/Relu:0\", shape=(None, 2), dtype=float32)\n",
      "<keras.layers.core.dense.Dense object at 0x298466da0> Tensor(\"residual_block_16/dense_57/Relu:0\", shape=(None, 2), dtype=float32)\n"
     ]
    }
   ],
   "source": [
    "class ResidualBlock(keras.layers.Layer):\n",
    "    def __init__(self, n_layers, n_neurons, **kwargs):\n",
    "        super().__init__(**kwargs)\n",
    "        self.hidden = [keras.layers.Dense(n_neurons, activation = \"relu\",\n",
    "                                          kernel_initializer = \"he_normal\")\n",
    "                      for i in range(n_layers)]\n",
    "        \n",
    "    def call(self, inputs):\n",
    "        Z = inputs\n",
    "        print(inputs)\n",
    "        for layer in self.hidden:\n",
    "            Z = layer(Z)\n",
    "            print(layer, Z)\n",
    "        return inputs + Z # concatenate input and 2 dense layers\n",
    "    \n",
    "inputs = keras.layers.Input(shape = [2])\n",
    "res = ResidualBlock(2, 2)(inputs)"
   ]
  },
  {
   "cell_type": "code",
   "execution_count": null,
   "metadata": {},
   "outputs": [],
   "source": [
    "class ResidualRegressor(keras.models.Model):\n",
    "    def __init__(self, output_dim, **kwargs):\n",
    "        super().__init__(**kwargs)\n",
    "        self.hidden1 = keras.layers.Dense(30, activation = \"elu\",\n",
    "                                          kernel_initializer = \"he_normal\")\n",
    "        self.block1 = ResidualBlock(2, 30)\n",
    "        self.block2 = ResidualBlock(2, 30)\n",
    "        self.out = keras.layers.Dense(output_dim)\n",
    "\n",
    "    def call(self, inputs):\n",
    "        Z = self.hidden1(inputs)\n",
    "        for _ in range(1 + 3):\n",
    "            Z = self.block1(Z)\n",
    "        Z = self.block2(Z)\n",
    "        return self.out(Z)\n",
    "    \n",
    "model = ResidualRegressor(1)"
   ]
  },
  {
   "cell_type": "markdown",
   "metadata": {},
   "source": [
    "## Losses and metrics based on model internals\n",
    "\n",
    "- To compute loss metrics internally within a model, use the `add_loss()` method.\n",
    "- The following example implements reconstruction loss: associated to an auxilliary output at the upper hidden layer. This is the mean squared difference between the \"reconstruction\" and the inptus"
   ]
  },
  {
   "cell_type": "code",
   "execution_count": null,
   "metadata": {},
   "outputs": [],
   "source": [
    "class ReconstructionLossRegressor(keras.models.Model):\n",
    "    def __init__(self, output_dim, **kwargs):\n",
    "        super().__init__(**kwargs)\n",
    "        self.hidden = [keras.layers.Dense(30, activation = \"selu\",\n",
    "                                          kernel_initializer = \"lecun_normal\")\n",
    "                      for i in range(5)]\n",
    "        self.out = keras.layers.Dense(output_dim)\n",
    "        self.reconstruction_mean = keras.metrics.Mean(name = \"reconstruction_error\")\n",
    "        \n",
    "    def build(self, batch_input_shape):\n",
    "        \"\"\"create a dense layer to reconstruct input\n",
    "        \"\"\"\n",
    "        n_inputs = batch_input_shape[-1]\n",
    "        self.reconstruct = keras.layers.Dense(n_inputs)\n",
    "        # super().build(batch_input_shape)\n",
    "    \n",
    "    def call(self, inputs, training = None):\n",
    "       Z = inputs\n",
    "       for layer in self.hidden:\n",
    "           Z = layer(Z)\n",
    "       reconstruction = self.reconstruct(Z)\n",
    "       reconstruction_ls = tf.reduce_mean(tf.square(reconstruction - inputs))\n",
    "       #              ┌─ hyperparam. Make sure reconstruction loss does not dominate main loss\n",
    "       self.add_loss(0.05 * reconstruction_ls)\n",
    "       if training: \n",
    "           result = self.reconstruction_mean(reconstruction_ls)\n",
    "           self.add_metric(result)\n",
    "       return self.out(Z)"
   ]
  },
  {
   "cell_type": "markdown",
   "metadata": {},
   "source": [
    "## Compute gradients using autodiff\n",
    "\n",
    "- We can use approximation method to compute the gradient of a function, but it is inefficient (function needs to be called once per parameter) in the context of large neural networks, where there are a lot of parameters that need to be tracked.\n",
    "- Therefore, we can use tensorflow autodiff (`tf.GradientTape()`) to do partial derivatives. All the variables go through the gradient once, so it is efficient. \n",
    "- A few quirks of `tf.GradientTape()`: \n",
    "     1. By default, the gradient will be erased after calling `.gradient()`. To prevent this, use `persistent = True` in `tf.GradientTape()`\n",
    "     2. By default, it only watches `tf.Variables`. To watch other types of values, call `tape.watch(var)` to watch it. \n",
    "     3. By default, when a vector of multiple value is passed to autodiff, it computes the gradients of the vector's sum. To do the computation separately on each individual values, use `tape.jacobian()`.\n",
    "\n",
    "\n",
    "- Anatomy of gradient tapes:\n",
    "```python\n",
    "\n",
    "# 1. define gradient tape context manager \n",
    "with tf.GradientTape() as gt: \n",
    "   target = fn(source1, source2, ...)  \n",
    "   \n",
    "tf.gradient([target], [source1, source2, ...])\n",
    "```"
   ]
  },
  {
   "cell_type": "code",
   "execution_count": 5,
   "metadata": {},
   "outputs": [
    {
     "data": {
      "text/plain": [
       "(36.000003007075065, 10.000000003174137)"
      ]
     },
     "execution_count": 5,
     "metadata": {},
     "output_type": "execute_result"
    }
   ],
   "source": [
    "def f(w1, w2):\n",
    "    \"\"\"toy function, derivative is (36, 10) at (5, 3)\"\"\"\n",
    "    return 3 * w1 ** 2 + 2 * w1 * w2\n",
    "\n",
    "# compute approximation of the partial derivative by measuring \n",
    "# the changes in input when corresponding parameter is tweaked \n",
    "# however, this method can become intractable for large NNs\n",
    "w1, w2, eps = 5, 3, 1e-6\n",
    "((f(w1 + eps, w2) - f(w1, w2)) / eps,\n",
    " (f(w1, w2 + eps) - f(w1, w2)) / eps)"
   ]
  },
  {
   "cell_type": "code",
   "execution_count": 8,
   "metadata": {},
   "outputs": [
    {
     "name": "stdout",
     "output_type": "stream",
     "text": [
      "tf.Tensor(36.0, shape=(), dtype=float32) tf.Tensor(10.0, shape=(), dtype=float32)\n"
     ]
    }
   ],
   "source": [
    "# GradientTape\n",
    "w1, w2 = tf.Variable(5.), tf.Variable(3.)\n",
    "\n",
    "with tf.GradientTape() as gt: # automatically record operation that involves a variable\n",
    "    z = f(w1, w2)\n",
    "grad = gt.gradient(z, [w1, w2])\n",
    "print(*grad)"
   ]
  },
  {
   "cell_type": "code",
   "execution_count": 7,
   "metadata": {},
   "outputs": [],
   "source": [
    "# the gradient is immediately erased after calling gradient()\n",
    "# if the gradient needs to persist, use:\n",
    "with tf.GradientTape(persistent=True) as pgt: \n",
    "    z = f(w1, w2)"
   ]
  },
  {
   "cell_type": "code",
   "execution_count": 31,
   "metadata": {},
   "outputs": [
    {
     "name": "stdout",
     "output_type": "stream",
     "text": [
      "default result: [None, None]\n",
      "After .watch(): [<tf.Tensor: shape=(), dtype=float32, numpy=36.0>, <tf.Tensor: shape=(), dtype=float32, numpy=10.0>]\n"
     ]
    }
   ],
   "source": [
    "# GradientTape() tracks Variables only by default\n",
    "c1, c2 = tf.constant(5.), tf.constant(3.)\n",
    "\n",
    "with tf.GradientTape() as gt:\n",
    "    z = f(c1, c2)\n",
    "grad = gt.gradient(z, [c1, c2])\n",
    "print(f\"default result: {grad}\")\n",
    "\n",
    "# use .watch to keep track of anything other than Variable()s\n",
    "with tf.GradientTape() as gt:\n",
    "    gt.watch(c1), gt.watch(c2)\n",
    "    z = f(c1, c2)\n",
    "grad = gt.gradient(z, [c1, c2])\n",
    "print(f\"After .watch(): {grad}\")"
   ]
  },
  {
   "cell_type": "code",
   "execution_count": 40,
   "metadata": {},
   "outputs": [
    {
     "name": "stdout",
     "output_type": "stream",
     "text": [
      "[<tf.Tensor: shape=(), dtype=float32, numpy=136.0>, <tf.Tensor: shape=(), dtype=float32, numpy=30.0>]\n",
      "tf.Tensor([136.  30.], shape=(2,), dtype=float32)\n"
     ]
    }
   ],
   "source": [
    "with tf.GradientTape() as default:\n",
    "    # compute gradient as sum of target wrt to each source\n",
    "    z1 = f(w1, w2 + 2.)\n",
    "    z2 = f(w1, w2 + 5.)\n",
    "    z3 = f(w1, w2 + 7.)\n",
    "\n",
    "print(default.gradient([z1, z2, z3], [w1, w2]))\n",
    "\n",
    "with tf.GradientTape(persistent = True) as manual:\n",
    "    # compute gradient separately and sum them up\n",
    "    z1 = f(w1, w2 + 2.)\n",
    "    z2 = f(w1, w2 + 5.)\n",
    "    z3 = f(w1, w2 + 7.)\n",
    "print(tf.reduce_sum(tf.stack([manual.gradient(z, [w1, w2]) for z in (z1, z2, z3)]), axis = 0))"
   ]
  },
  {
   "cell_type": "code",
   "execution_count": 48,
   "metadata": {},
   "outputs": [
    {
     "name": "stdout",
     "output_type": "stream",
     "text": [
      "==========Jacobian==========\n",
      "[<tf.Tensor: shape=(), dtype=float32, numpy=36.0>, <tf.Tensor: shape=(), dtype=float32, numpy=10.0>]\n",
      "==========Hessian==========\n",
      "[[<tf.Tensor: shape=(), dtype=float32, numpy=8.0>, <tf.Tensor: shape=(), dtype=float32, numpy=2.0>], [<tf.Tensor: shape=(), dtype=float32, numpy=8.0>, <tf.Tensor: shape=(), dtype=float32, numpy=2.0>]]\n"
     ]
    }
   ],
   "source": [
    "with tf.GradientTape(persistent=True) as hessian:\n",
    "    with tf.GradientTape() as jacobian: \n",
    "        z = f(w1, w2)\n",
    "    jacobians = jacobian.gradient(z, [w1, w2])\n",
    "hessians = [hessian.gradient(jacobians, [w1, w2]) for j in jacobians]\n",
    "\n",
    "print(f\"{'='*10}Jacobian{'='*10}\\n{jacobians}\\n{'='*10}Hessian{'='*10}\\n{hessians}\")"
   ]
  },
  {
   "cell_type": "code",
   "execution_count": 11,
   "metadata": {},
   "outputs": [
    {
     "data": {
      "text/plain": [
       "[<tf.Tensor: shape=(), dtype=float32, numpy=36.0>,\n",
       " <tf.Tensor: shape=(), dtype=float32, numpy=10.0>]"
      ]
     },
     "execution_count": 11,
     "metadata": {},
     "output_type": "execute_result"
    }
   ],
   "source": [
    "with tf.GradientTape() as jgt: \n",
    "    z = f(w1, w2) \n",
    "jacobian = jgt.jacobian(z, [w1, w2])\n",
    "jacobian"
   ]
  },
  {
   "cell_type": "markdown",
   "metadata": {},
   "source": [
    "When we want to stop the gradient from backpropagating during training, use `tf.stop_gradient()` function."
   ]
  },
  {
   "cell_type": "code",
   "execution_count": 34,
   "metadata": {},
   "outputs": [
    {
     "data": {
      "text/plain": [
       "[<tf.Tensor: shape=(), dtype=float32, numpy=30.0>, None]"
      ]
     },
     "execution_count": 34,
     "metadata": {},
     "output_type": "execute_result"
    }
   ],
   "source": [
    "def f(w1, w2):\n",
    "    return 3 * w1 ** 2 + tf.stop_gradient(2 * w1 * w2)\n",
    "\n",
    "with tf.GradientTape() as gt:\n",
    "    z = f(w1, w2)\n",
    "\n",
    "gradients = gt.gradient(z, [w1, w2])\n",
    "gradients"
   ]
  },
  {
   "cell_type": "markdown",
   "metadata": {},
   "source": [
    "In some cases, autodiff can run into some numerical issues. For example, computing the gradient of the softplus function gives `nan` results. This is caused by infinity dividing by infinity in autodiff float-point precision errors (caused by the exponential operation on the numeric values). "
   ]
  },
  {
   "cell_type": "code",
   "execution_count": 47,
   "metadata": {},
   "outputs": [
    {
     "name": "stdout",
     "output_type": "stream",
     "text": [
      "[<tf.Tensor: shape=(1,), dtype=float32, numpy=array([nan], dtype=float32)>]\n",
      "[<tf.Tensor: shape=(1,), dtype=float32, numpy=array([1.], dtype=float32)>] [<tf.Tensor: shape=(1,), dtype=float32, numpy=array([nan], dtype=float32)>]\n"
     ]
    }
   ],
   "source": [
    "x1 = tf.Variable([100.])\n",
    "x2 = tf.Variable([1000.])\n",
    "# numerically unstable\n",
    "with tf.GradientTape() as tape:\n",
    "    z = softplus([x1])\n",
    "\n",
    "nan_grad = tape.gradient(z, [x1]) # gives nan\n",
    "print(nan_grad)\n",
    "\n",
    "# numerically stable version of softplus (derivative of softplus)\n",
    "@tf.custom_gradient\n",
    "def softplus_stable_1(z):\n",
    "    exp = tf.exp(z)\n",
    "    def softplus_grad(grad):\n",
    "        return grad / (1 + 1 / exp)\n",
    "    return tf.math.log(exp + 1), softplus_grad\n",
    "\n",
    "def softplus_stable_2(z):\n",
    "    \"\"\"returns the original value when the value is large (avoid exponential operation)\"\"\"\n",
    "    return tf.where(z > 30., z, tf.math.log(tf.exp(z) + 1.))\n",
    "\n",
    "with tf.GradientTape(persistent = True) as tape:\n",
    "    z = softplus_stable_1(x1)\n",
    "    zz = softplus_stable_2(x2)\n",
    "\n",
    "stable_grad1 = tape.gradient(z, [x1])\n",
    "stable_grad2 = tape.gradient(zz, [x2])\n",
    "print(stable_grad1, stable_grad2)"
   ]
  },
  {
   "cell_type": "markdown",
   "metadata": {},
   "source": [
    "## Custom training loops\n",
    "\n",
    "- Models does not need to be `.compile()`ed when defining custom training loops"
   ]
  },
  {
   "cell_type": "code",
   "execution_count": 49,
   "metadata": {},
   "outputs": [],
   "source": [
    "# define model\n",
    "l2_reg = keras.regularizers.l2(0.05)\n",
    "\n",
    "model = keras.models.Sequential([\n",
    "    keras.layers.Dense(30, activation = \"elu\", \n",
    "                       kernel_initializer=\"he_normal\",\n",
    "                       kernel_regularizer = l2_reg),\n",
    "    keras.layers.Dense(1, kernel_regularizer = l2_reg)\n",
    "])"
   ]
  },
  {
   "cell_type": "code",
   "execution_count": 61,
   "metadata": {},
   "outputs": [
    {
     "name": "stdout",
     "output_type": "stream",
     "text": [
      "50/50 - loss:0.0900 - mean_square:1.0000\n"
     ]
    }
   ],
   "source": [
    "# define random selection of train/test data\n",
    "def random_batch(X, y, batch_size = 32):\n",
    "    idx = np.random.randint(len(X), size = batch_size)\n",
    "    return X[idx], y[idx]\n",
    "\n",
    "# define status bar function\n",
    "def stat_bar(iteration, total, loss, metrics:list = None):\n",
    "    metrics = \" - \".join([f\"{m.name}:{m.result():.4f}\" for m in [loss] + (metrics or [])])\n",
    "    end = \"\" if iteration < total else \"\\n\"\n",
    "    print(f\"\\r{iteration}/{total} - \" + metrics, end = end)\n",
    "\n",
    "mean_loss = keras.metrics.Mean(name = \"loss\")\n",
    "mean_square = keras.metrics.Mean(name = \"mean_square\")\n",
    "\n",
    "for i in range(1, 50+1):\n",
    "    loss = 1 / i\n",
    "    mean_loss(loss)\n",
    "    mean_square(1 ** 2)\n",
    "    stat_bar(i, 50, mean_loss, [mean_square])"
   ]
  },
  {
   "cell_type": "code",
   "execution_count": 2,
   "metadata": {},
   "outputs": [
    {
     "data": {
      "text/plain": [
       "' 3500/10000 [==========>...................]'"
      ]
     },
     "execution_count": 2,
     "metadata": {},
     "output_type": "execute_result"
    }
   ],
   "source": [
    "# advanced version (progress bar)\n",
    "def progress_bar(iteration, total, size = 30):\n",
    "    running = iteration < total\n",
    "    c = \">\" if running else \"=\"\n",
    "    p = (size - 1) * iteration // total\n",
    "    fmt = \"{{:-{}d}}/{{}} [{{}}]\".format(len(str(total)))\n",
    "    params = [iteration, total, \"=\" * p + c + \".\" * (size - p - 1)]\n",
    "    return fmt.format(*params)\n",
    "progress_bar(3500, 10000)"
   ]
  },
  {
   "cell_type": "code",
   "execution_count": null,
   "metadata": {},
   "outputs": [],
   "source": []
  }
 ],
 "metadata": {
  "kernelspec": {
   "display_name": "numpy_m1_build",
   "language": "python",
   "name": "python3"
  },
  "language_info": {
   "codemirror_mode": {
    "name": "ipython",
    "version": 3
   },
   "file_extension": ".py",
   "mimetype": "text/x-python",
   "name": "python",
   "nbconvert_exporter": "python",
   "pygments_lexer": "ipython3",
   "version": "3.10.4"
  },
  "orig_nbformat": 4
 },
 "nbformat": 4,
 "nbformat_minor": 2
}
