{
 "cells": [
  {
   "attachments": {},
   "cell_type": "markdown",
   "metadata": {},
   "source": [
    "# Chapter 12\n",
    "\n",
    "- Tensorflow Python API\n",
    "```text\n",
    "┌─────────────────┐               ┌────────────────┐\n",
    "│tf.keras         │High-level     │tf.distribute   │\n",
    "│tf.estimator     │API            │tf.saved_model  │\n",
    "└─────────────────┘               │tf.autograph    │\n",
    "                                  │tf.graph_util   │Deployment &\n",
    "┌─────────────────┐               │tf.lite         │optimization\n",
    "│tf.nn            │               │tf.quantization │\n",
    "│tf.losses        │               │tf.tpu          │\n",
    "│tf.metrics       │Low-level      │tf.xla          │\n",
    "│tf.optimizers    │API            └────────────────┘\n",
    "│tf.train         │\n",
    "│tf.initializers  │               ┌────────────────┐\n",
    "└─────────────────┘               │tf.lookup       │\n",
    "                                  │tf.nest         │\n",
    "┌─────────────────┐               │tf.ragged       │Special data\n",
    "│tf.GradientTape  │Autodiff       │tf.sets         │structures\n",
    "│tf.gradients()   │               │tf.sparse       │\n",
    "└─────────────────┘               │tf.strings      │\n",
    "                                  └────────────────┘\n",
    "┌─────────────────┐\n",
    "│tf.data          │               ┌────────────────┐\n",
    "│tf.feature_column│               │tf.math         │\n",
    "│tf.audio         │I/O &          │tf.linalg       │Math\n",
    "│tf.image         │Preprocessing  │tf.signal       │\n",
    "│tf.io            │               │tf.random       │\n",
    "│tf.queue         │               │tf.bitwise      │\n",
    "└─────────────────┘               └────────────────┘\n",
    "\n",
    "┌─────────────────┐               ┌────────────────┐\n",
    "│tf.summary       │Tensorboard    │tf.compat       │Miscellaneous\n",
    "└─────────────────┘               │tf.config       │\n",
    "                                  └────────────────┘\n",
    "```"
   ]
  },
  {
   "cell_type": "code",
   "execution_count": 21,
   "metadata": {},
   "outputs": [],
   "source": [
    "import tensorflow as tf\n",
    "import matplotlib.pyplot as plt\n",
    "import numpy as np\n",
    "\n",
    "%matplotlib inline"
   ]
  },
  {
   "attachments": {},
   "cell_type": "markdown",
   "metadata": {},
   "source": [
    "## Tensor operations"
   ]
  },
  {
   "cell_type": "code",
   "execution_count": 18,
   "metadata": {},
   "outputs": [
    {
     "name": "stdout",
     "output_type": "stream",
     "text": [
      "tf.Tensor(42, shape=(), dtype=int32)\n",
      "\n",
      " tf.Tensor(\n",
      "[[1 2 3]\n",
      " [4 5 6]], shape=(2, 3), dtype=int32)\n",
      "\n",
      " (TensorShape([2, 3]), tf.int32)\n",
      "\n",
      " tf.Tensor([2 5], shape=(2,), dtype=int32) \n",
      " tf.Tensor(\n",
      "[[2]\n",
      " [5]], shape=(2, 1), dtype=int32)\n"
     ]
    }
   ],
   "source": [
    "# define scaler\n",
    "print(tf.constant(42))\n",
    "\n",
    "# define matrix\n",
    "print(\"\\n\", tf.constant([[1,2,3], [4,5,6]]))\n",
    "\n",
    "# shape and dtype \n",
    "t = tf.constant([[1,2,3], [4,5,6]])\n",
    "print(\"\\n\", (t.shape, t.dtype))\n",
    "\n",
    "# tensor indexing\n",
    "print(\"\\n\", t[:, 1], \"\\n\" ,t[:, 1, tf.newaxis])"
   ]
  },
  {
   "cell_type": "code",
   "execution_count": 20,
   "metadata": {},
   "outputs": [
    {
     "data": {
      "text/plain": [
       "(<tf.Tensor: shape=(2, 3), dtype=int32, numpy=\n",
       " array([[11, 12, 13],\n",
       "        [14, 15, 16]], dtype=int32)>,\n",
       " <tf.Tensor: shape=(2, 3), dtype=int32, numpy=\n",
       " array([[ 1,  4,  9],\n",
       "        [16, 25, 36]], dtype=int32)>,\n",
       " <tf.Tensor: shape=(2, 2), dtype=int32, numpy=\n",
       " array([[14, 32],\n",
       "        [32, 77]], dtype=int32)>)"
      ]
     },
     "execution_count": 20,
     "metadata": {},
     "output_type": "execute_result"
    }
   ],
   "source": [
    "#  ┌─ \"+\" calls the tf.add method\n",
    "(t + 10, tf.square(t), t @ tf.transpose(t))"
   ]
  },
  {
   "attachments": {},
   "cell_type": "markdown",
   "metadata": {},
   "source": [
    "`tf.transpose()` is different from numpy `.T` attribute: `tf` creates a new tensor with the transposed data, while `numpy` `.T` attribute is only a **view** of the transposed data. \n",
    "\n",
    "`keras.backend` provides interface to call corresponding tensorflow ops. "
   ]
  },
  {
   "cell_type": "code",
   "execution_count": 24,
   "metadata": {},
   "outputs": [
    {
     "name": "stdout",
     "output_type": "stream",
     "text": [
      "tf.Tensor([1 2 3], shape=(3,), dtype=int64)\n",
      "[[1 2 3]\n",
      " [4 5 6]]\n"
     ]
    }
   ],
   "source": [
    "# from numpy array to tf tensor\n",
    "a = np.array([1,2,3])\n",
    "print(tf.constant(a))\n",
    "\n",
    "# from tf tensor to numpy array\n",
    "print(t.numpy())"
   ]
  }
 ],
 "metadata": {
  "kernelspec": {
   "display_name": "numpy_m1_build",
   "language": "python",
   "name": "python3"
  },
  "language_info": {
   "codemirror_mode": {
    "name": "ipython",
    "version": 3
   },
   "file_extension": ".py",
   "mimetype": "text/x-python",
   "name": "python",
   "nbconvert_exporter": "python",
   "pygments_lexer": "ipython3",
   "version": "3.10.4"
  },
  "orig_nbformat": 4
 },
 "nbformat": 4,
 "nbformat_minor": 2
}
