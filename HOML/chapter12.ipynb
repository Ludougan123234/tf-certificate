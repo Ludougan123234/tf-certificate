{
 "cells": [
  {
   "attachments": {},
   "cell_type": "markdown",
   "metadata": {},
   "source": [
    "# Chapter 12\n",
    "\n",
    "- Tensorflow Python API\n",
    "```text\n",
    "┌─────────────────┐               ┌────────────────┐\n",
    "│tf.keras         │High-level     │tf.distribute   │\n",
    "│tf.estimator     │API            │tf.saved_model  │\n",
    "└─────────────────┘               │tf.autograph    │\n",
    "                                  │tf.graph_util   │Deployment &\n",
    "┌─────────────────┐               │tf.lite         │optimization\n",
    "│tf.nn            │               │tf.quantization │\n",
    "│tf.losses        │               │tf.tpu          │\n",
    "│tf.metrics       │Low-level      │tf.xla          │\n",
    "│tf.optimizers    │API            └────────────────┘\n",
    "│tf.train         │\n",
    "│tf.initializers  │               ┌────────────────┐\n",
    "└─────────────────┘               │tf.lookup       │\n",
    "                                  │tf.nest         │\n",
    "┌─────────────────┐               │tf.ragged       │Special data\n",
    "│tf.GradientTape  │Autodiff       │tf.sets         │structures\n",
    "│tf.gradients()   │               │tf.sparse       │\n",
    "└─────────────────┘               │tf.strings      │\n",
    "                                  └────────────────┘\n",
    "┌─────────────────┐\n",
    "│tf.data          │               ┌────────────────┐\n",
    "│tf.feature_column│               │tf.math         │\n",
    "│tf.audio         │I/O &          │tf.linalg       │Math\n",
    "│tf.image         │Preprocessing  │tf.signal       │\n",
    "│tf.io            │               │tf.random       │\n",
    "│tf.queue         │               │tf.bitwise      │\n",
    "└─────────────────┘               └────────────────┘\n",
    "\n",
    "┌─────────────────┐               ┌────────────────┐\n",
    "│tf.summary       │Tensorboard    │tf.compat       │Miscellaneous\n",
    "└─────────────────┘               │tf.config       │\n",
    "                                  └────────────────┘\n",
    "```"
   ]
  },
  {
   "cell_type": "code",
   "execution_count": 3,
   "metadata": {},
   "outputs": [],
   "source": [
    "import tensorflow as tf\n",
    "import matplotlib.pyplot as plt\n",
    "import numpy as np\n",
    "\n",
    "%matplotlib inline"
   ]
  },
  {
   "attachments": {},
   "cell_type": "markdown",
   "metadata": {},
   "source": [
    "## Tensor data structures and operations\n",
    "\n",
    "1. Data structure\n",
    "\n",
    "|  Datatype| description |\n",
    "|:----|:----|\n",
    "| `tf.constant()` | Immutable tensor |\n",
    "| `tf.Variable()` | Mutable tensor. Use `assign()` and related methods, and `scatter_nd_update()` to update value |\n",
    "| `tf.SparseTensor` | Represents tensors with mostly zeros | \n",
    "| `tf.TensorArray` | Represents list with tensors. All tensors must have the same shape and dtype. Fixed size by default but can be made mutable | \n",
    "| `tf.RaggedTensor` | Represents list of lists of tensors, where every tensor has the same shape and dtype | \n",
    "| string tensors (`tf.string`) | Represents string data (byte strings). `tf.strings` package contains ops for byte and unicode strings. `tf.string` is atomic (the length does not appear in tensor's shape, and will only be made visible after converting to `tf.int32` unicode representation tensor). See example. | \n",
    "| Sets | Defined as regular tensors |\n",
    "\n",
    "\n",
    "2. Operations\n",
    "\n",
    "|  Operation| description |\n",
    "|:----|:----|\n",
    "| + | addition (calls `tf.__add__`) |\n",
    "| - | subtraction (calls `tf.__sub__`) |\n",
    "| * | (component wise) multiplication  (calls `tf.__mul__`) |\n",
    "| @ | matrix multiplication (calls `tf.__matmul__`) |\n",
    "| / | division (calls `tf.__div__`) |\n",
    "| `transpose()` | Transpose a matrix | \n"
   ]
  },
  {
   "cell_type": "code",
   "execution_count": 18,
   "metadata": {},
   "outputs": [
    {
     "name": "stdout",
     "output_type": "stream",
     "text": [
      "tf.Tensor(42, shape=(), dtype=int32)\n",
      "\n",
      " tf.Tensor(\n",
      "[[1 2 3]\n",
      " [4 5 6]], shape=(2, 3), dtype=int32)\n",
      "\n",
      " (TensorShape([2, 3]), tf.int32)\n",
      "\n",
      " tf.Tensor([2 5], shape=(2,), dtype=int32) \n",
      " tf.Tensor(\n",
      "[[2]\n",
      " [5]], shape=(2, 1), dtype=int32)\n"
     ]
    }
   ],
   "source": [
    "# define scaler\n",
    "print(tf.constant(42))\n",
    "\n",
    "# define matrix\n",
    "print(\"\\n\", tf.constant([[1,2,3], [4,5,6]]))\n",
    "\n",
    "# shape and dtype \n",
    "t = tf.constant([[1,2,3], [4,5,6]])\n",
    "print(\"\\n\", (t.shape, t.dtype))\n",
    "\n",
    "# tensor indexing\n",
    "print(\"\\n\", t[:, 1], \"\\n\" ,t[:, 1, tf.newaxis])"
   ]
  },
  {
   "cell_type": "code",
   "execution_count": 20,
   "metadata": {},
   "outputs": [
    {
     "data": {
      "text/plain": [
       "(<tf.Tensor: shape=(2, 3), dtype=int32, numpy=\n",
       " array([[11, 12, 13],\n",
       "        [14, 15, 16]], dtype=int32)>,\n",
       " <tf.Tensor: shape=(2, 3), dtype=int32, numpy=\n",
       " array([[ 1,  4,  9],\n",
       "        [16, 25, 36]], dtype=int32)>,\n",
       " <tf.Tensor: shape=(2, 2), dtype=int32, numpy=\n",
       " array([[14, 32],\n",
       "        [32, 77]], dtype=int32)>)"
      ]
     },
     "execution_count": 20,
     "metadata": {},
     "output_type": "execute_result"
    }
   ],
   "source": [
    "#  ┌─ \"+\" calls the tf.add method\n",
    "(t + 10, tf.square(t), t @ tf.transpose(t))"
   ]
  },
  {
   "attachments": {},
   "cell_type": "markdown",
   "metadata": {},
   "source": [
    "`tf.transpose()` is different from numpy `.T` attribute: `tf` creates a new tensor with the transposed data, while `numpy` `.T` attribute is only a **view** of the transposed data. \n",
    "\n",
    "`keras.backend` provides interface to call corresponding tensorflow ops. "
   ]
  },
  {
   "cell_type": "code",
   "execution_count": 24,
   "metadata": {},
   "outputs": [
    {
     "name": "stdout",
     "output_type": "stream",
     "text": [
      "tf.Tensor([1 2 3], shape=(3,), dtype=int64)\n",
      "[[1 2 3]\n",
      " [4 5 6]]\n"
     ]
    }
   ],
   "source": [
    "# from numpy array to tf tensor\n",
    "a = np.array([1,2,3])\n",
    "print(tf.constant(a))\n",
    "\n",
    "# from tf tensor to numpy array\n",
    "print(t.numpy())"
   ]
  },
  {
   "cell_type": "code",
   "execution_count": 8,
   "metadata": {},
   "outputs": [
    {
     "name": "stdout",
     "output_type": "stream",
     "text": [
      "cannot compute AddV2 as input #1(zero-based) was expected to be a float tensor but is a int32 tensor [Op:AddV2]\n"
     ]
    },
    {
     "data": {
      "text/plain": [
       "<tf.Tensor: shape=(1,), dtype=int16, numpy=array([84], dtype=int16)>"
      ]
     },
     "execution_count": 8,
     "metadata": {},
     "output_type": "execute_result"
    }
   ],
   "source": [
    "# type conversion\n",
    "# tf does not allow implicit type conversions. Type conversion should be done\n",
    "# explicitly through tf.cast() \n",
    "\n",
    "try:\n",
    "     tf.constant([42.]) + tf.constant([42])\n",
    "except Exception as e:\n",
    "     print(e)\n",
    "\n",
    "# Use tf.cast() to cast datatypes\n",
    "t1 = tf.constant([42], dtype=tf.float64)\n",
    "t2 = tf.constant([42], dtype=tf.int16)\n",
    "tf.cast(t1, tf.int16) + t2"
   ]
  },
  {
   "cell_type": "code",
   "execution_count": 21,
   "metadata": {},
   "outputs": [
    {
     "name": "stdout",
     "output_type": "stream",
     "text": [
      "<tf.Variable 'UnreadVariable' shape=(2, 3) dtype=int32, numpy=\n",
      "array([[ 2,  4,  6],\n",
      "       [ 8, 10, 12]], dtype=int32)> <tf.Variable 'UnreadVariable' shape=(2, 3) dtype=int32, numpy=\n",
      "array([[42,  2,  3],\n",
      "       [42,  5,  6]], dtype=int32)> <tf.Variable 'UnreadVariable' shape=(2, 3) dtype=int32, numpy=\n",
      "array([[100,   2,   3],\n",
      "       [  4,   5, 200]], dtype=int32)>\n"
     ]
    }
   ],
   "source": [
    "# tf.constant() --> immutable\n",
    "# tf.variable() --> mutable, suitable for weights and optims\n",
    "\n",
    "g1 = tf.Variable([[1,2,3], [4,5,6]])\n",
    "g2 = tf.Variable([[1,2,3], [4,5,6]])\n",
    "g3 = tf.Variable([[1,2,3], [4,5,6]])\n",
    "print(\n",
    "    g1.assign(2 * g1), # assign the operation of * 2 to g\n",
    "    g2[:, 0].assign(42), # assign value 42 to selected index\n",
    "    g3.scatter_nd_update(indices = [[0,0], [1,2]],\n",
    "                         updates = [100, 200]) # use scatter_nd_update to update variable\n",
    ")"
   ]
  },
  {
   "cell_type": "code",
   "execution_count": 56,
   "metadata": {},
   "outputs": [
    {
     "data": {
      "text/plain": [
       "(<tf.Tensor: shape=(), dtype=string, numpy=b'caf\\xc3\\xa8'>,\n",
       " <tf.Tensor: shape=(), dtype=string, numpy=b'tensorflow'>,\n",
       " <tf.Tensor: shape=(4,), dtype=int32, numpy=array([ 99,  97, 102, 232], dtype=int32)>)"
      ]
     },
     "execution_count": 56,
     "metadata": {},
     "output_type": "execute_result"
    }
   ],
   "source": [
    "# string\n",
    "\n",
    "(tf.constant(\"cafè\"),\n",
    " tf.constant(b\"tensorflow\"), # b for byte string. ASCII literals only\n",
    " tf.constant([ord(c) for c in \"cafè\"]) # Unicode point encoding\n",
    " )"
   ]
  },
  {
   "cell_type": "code",
   "execution_count": 60,
   "metadata": {},
   "outputs": [
    {
     "data": {
      "text/plain": [
       "(<tf.Tensor: shape=(), dtype=int32, numpy=4>,\n",
       " <tf.Tensor: shape=(4,), dtype=int32, numpy=array([ 99,  97, 102, 232], dtype=int32)>)"
      ]
     },
     "execution_count": 60,
     "metadata": {},
     "output_type": "execute_result"
    }
   ],
   "source": [
    "u = tf.constant([ord(c) for c in \"cafè\"])\n",
    "uu = tf.strings.unicode_encode(tf.constant(u), \"UTF-8\")\n",
    "\n",
    "(tf.strings.length(uu, unit = \"UTF8_CHAR\"),\n",
    " tf.strings.unicode_decode(uu, \"UTF-8\")\n",
    ")"
   ]
  },
  {
   "cell_type": "code",
   "execution_count": null,
   "metadata": {},
   "outputs": [],
   "source": []
  }
 ],
 "metadata": {
  "kernelspec": {
   "display_name": "numpy_m1_build",
   "language": "python",
   "name": "python3"
  },
  "language_info": {
   "codemirror_mode": {
    "name": "ipython",
    "version": 3
   },
   "file_extension": ".py",
   "mimetype": "text/x-python",
   "name": "python",
   "nbconvert_exporter": "python",
   "pygments_lexer": "ipython3",
   "version": "3.10.4"
  },
  "orig_nbformat": 4
 },
 "nbformat": 4,
 "nbformat_minor": 2
}
